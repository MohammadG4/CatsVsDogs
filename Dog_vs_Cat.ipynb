{
  "cells": [
    {
      "cell_type": "markdown",
      "metadata": {
        "id": "f1vF_bP2aw9n"
      },
      "source": [
        "# **Importing the Data from Kaggle**"
      ]
    },
    {
      "cell_type": "code",
      "execution_count": null,
      "metadata": {
        "colab": {
          "base_uri": "https://localhost:8080/"
        },
        "id": "ThOHWliewOz2",
        "outputId": "4b129198-3738-460f-da44-653149f322fb"
      },
      "outputs": [
        {
          "name": "stdout",
          "output_type": "stream",
          "text": [
            "Requirement already satisfied: kaggle in /usr/local/lib/python3.10/dist-packages (1.6.17)\n",
            "Requirement already satisfied: six>=1.10 in /usr/local/lib/python3.10/dist-packages (from kaggle) (1.16.0)\n",
            "Requirement already satisfied: certifi>=2023.7.22 in /usr/local/lib/python3.10/dist-packages (from kaggle) (2024.7.4)\n",
            "Requirement already satisfied: python-dateutil in /usr/local/lib/python3.10/dist-packages (from kaggle) (2.8.2)\n",
            "Requirement already satisfied: requests in /usr/local/lib/python3.10/dist-packages (from kaggle) (2.32.3)\n",
            "Requirement already satisfied: tqdm in /usr/local/lib/python3.10/dist-packages (from kaggle) (4.66.5)\n",
            "Requirement already satisfied: python-slugify in /usr/local/lib/python3.10/dist-packages (from kaggle) (8.0.4)\n",
            "Requirement already satisfied: urllib3 in /usr/local/lib/python3.10/dist-packages (from kaggle) (2.0.7)\n",
            "Requirement already satisfied: bleach in /usr/local/lib/python3.10/dist-packages (from kaggle) (6.1.0)\n",
            "Requirement already satisfied: webencodings in /usr/local/lib/python3.10/dist-packages (from bleach->kaggle) (0.5.1)\n",
            "Requirement already satisfied: text-unidecode>=1.3 in /usr/local/lib/python3.10/dist-packages (from python-slugify->kaggle) (1.3)\n",
            "Requirement already satisfied: charset-normalizer<4,>=2 in /usr/local/lib/python3.10/dist-packages (from requests->kaggle) (3.3.2)\n",
            "Requirement already satisfied: idna<4,>=2.5 in /usr/local/lib/python3.10/dist-packages (from requests->kaggle) (3.7)\n"
          ]
        }
      ],
      "source": [
        "! pip install kaggle"
      ]
    },
    {
      "cell_type": "code",
      "execution_count": null,
      "metadata": {
        "colab": {
          "base_uri": "https://localhost:8080/"
        },
        "id": "vdXVU1EIyaUw",
        "outputId": "7abc774a-d2f0-49d9-d8a6-2f1c025e6883"
      },
      "outputs": [
        {
          "output_type": "stream",
          "name": "stdout",
          "text": [
            "Mounted at /content/drive\n"
          ]
        }
      ],
      "source": [
        "from google.colab import drive\n",
        "drive.mount('/content/drive')"
      ]
    },
    {
      "cell_type": "code",
      "execution_count": null,
      "metadata": {
        "colab": {
          "background_save": true
        },
        "id": "-ZjiYfnXybnj",
        "outputId": "e479bd04-d5ff-46e9-dbbf-c6600784aa4c"
      },
      "outputs": [
        {
          "name": "stdout",
          "output_type": "stream",
          "text": [
            "mkdir: cannot create directory ‘/root/.kaggle’: File exists\n"
          ]
        }
      ],
      "source": [
        "! mkdir ~/.kaggle"
      ]
    },
    {
      "cell_type": "code",
      "execution_count": null,
      "metadata": {
        "colab": {
          "background_save": true
        },
        "id": "_d303bMcyr5y"
      },
      "outputs": [],
      "source": [
        "!cp /content/drive/MyDrive/Kaggle_API/kaggle.json ~/.kaggle/kaggle.json"
      ]
    },
    {
      "cell_type": "code",
      "execution_count": null,
      "metadata": {
        "colab": {
          "background_save": true
        },
        "id": "AywPE54vyugi"
      },
      "outputs": [],
      "source": [
        "! chmod 600 ~/.kaggle/kaggle.json"
      ]
    },
    {
      "cell_type": "code",
      "execution_count": null,
      "metadata": {
        "colab": {
          "background_save": true
        },
        "id": "3oGIFSJJy4nO",
        "outputId": "93471ca8-5105-423d-df95-b0a28645f75e"
      },
      "outputs": [
        {
          "name": "stdout",
          "output_type": "stream",
          "text": [
            "Traceback (most recent call last):\n",
            "  File \"/usr/local/lib/python3.10/dist-packages/slugify/slugify.py\", line 9, in <module>\n",
            "    import unidecode\n",
            "ModuleNotFoundError: No module named 'unidecode'\n",
            "\n",
            "During handling of the above exception, another exception occurred:\n",
            "\n",
            "Traceback (most recent call last):\n",
            "  File \"/usr/local/bin/kaggle\", line 5, in <module>\n",
            "    from kaggle.cli import main\n",
            "  File \"/usr/local/lib/python3.10/dist-packages/kaggle/__init__.py\", line 3, in <module>\n",
            "    from kaggle.api.kaggle_api_extended import KaggleApi\n",
            "  File \"/usr/local/lib/python3.10/dist-packages/kaggle/api/__init__.py\", line 6, in <module>\n",
            "    from kaggle.api.kaggle_api_extended import KaggleApi\n",
            "  File \"/usr/local/lib/python3.10/dist-packages/kaggle/api/kaggle_api_extended.py\", line 74, in <module>\n",
            "    from slugify import slugify\n",
            "  File \"/usr/local/lib/python3.10/dist-packages/slugify/__init__.py\", line 2, in <module>\n",
            "    from .slugify import *\n",
            "  File \"/usr/local/lib/python3.10/dist-packages/slugify/slugify.py\", line 11, in <module>\n",
            "    import text_unidecode as unidecode\n",
            "  File \"/usr/local/lib/python3.10/dist-packages/text_unidecode/__init__.py\", line 6, in <module>\n",
            "    _replaces = pkgutil.get_data(__name__, 'data.bin').decode('utf8').split('\\x00')\n",
            "  File \"/usr/lib/python3.10/pkgutil.py\", line 639, in get_data\n",
            "    return loader.get_data(resource_name)\n",
            "  File \"<frozen importlib._bootstrap_external>\", line 1074, in get_data\n",
            "KeyboardInterrupt\n",
            "^C\n"
          ]
        }
      ],
      "source": [
        "! kaggle datasets download -d salader/dogs-vs-cats"
      ]
    },
    {
      "cell_type": "code",
      "execution_count": null,
      "metadata": {
        "id": "-gBZ7TYyy9Ut"
      },
      "outputs": [],
      "source": [
        "! unzip dogs-vs-cats.zip"
      ]
    },
    {
      "cell_type": "code",
      "execution_count": null,
      "metadata": {
        "id": "q8OXs8xtzusk"
      },
      "outputs": [],
      "source": [
        "import os\n",
        "import shutil  # Import the shutil module\n",
        "\n",
        "shutil.rmtree('/content/test')  # Now you can use shutil.rmtree()\n",
        "shutil.rmtree('/content/train')  # Now you can use shutil.rmtree()"
      ]
    },
    {
      "cell_type": "markdown",
      "metadata": {
        "id": "K1Fb0LBQa-Q2"
      },
      "source": [
        "# **CNN Model**"
      ]
    },
    {
      "cell_type": "code",
      "execution_count": null,
      "metadata": {
        "id": "BLFxsXIQ0aEH"
      },
      "outputs": [],
      "source": [
        "from tensorflow.keras.preprocessing.image import ImageDataGenerator\n",
        "from tensorflow.keras.models import Sequential\n",
        "from tensorflow.keras.layers import Dense, Flatten, Conv2D, GlobalAveragePooling2D, MaxPooling2D, Dropout, BatchNormalization\n",
        "from tensorflow.keras.callbacks import EarlyStopping\n",
        "from tensorflow.keras.regularizers import l2"
      ]
    },
    {
      "cell_type": "code",
      "execution_count": null,
      "metadata": {
        "colab": {
          "base_uri": "https://localhost:8080/"
        },
        "id": "rBf16aaS0I4A",
        "outputId": "1ba82688-60e3-4912-9ad1-087f09b53271"
      },
      "outputs": [
        {
          "name": "stdout",
          "output_type": "stream",
          "text": [
            "Found 20000 images belonging to 2 classes.\n"
          ]
        }
      ],
      "source": [
        "# preprocessing over the training set\n",
        "\n",
        "train_data_generation = ImageDataGenerator(rescale=1./255,\n",
        "                                           shear_range=0.2,\n",
        "                                           zoom_range=0.2,\n",
        "                                           horizontal_flip=True,\n",
        "                                           )\n",
        "\n",
        "training_set = train_data_generation.flow_from_directory('/content/dogs_vs_cats/train',\n",
        "                                                         target_size=(299, 299),\n",
        "                                                         batch_size=16,\n",
        "                                                         class_mode='binary')"
      ]
    },
    {
      "cell_type": "code",
      "execution_count": null,
      "metadata": {
        "colab": {
          "base_uri": "https://localhost:8080/"
        },
        "id": "G7GnKqfM07CM",
        "outputId": "3ef8bf1e-dd18-4155-bdda-21198b63ecce"
      },
      "outputs": [
        {
          "name": "stdout",
          "output_type": "stream",
          "text": [
            "Found 5000 images belonging to 2 classes.\n"
          ]
        }
      ],
      "source": [
        "\n",
        "# preprocessing the testing set\n",
        "test_data_generation = ImageDataGenerator(rescale=1./255)\n",
        "testing_set = test_data_generation.flow_from_directory('/content/dogs_vs_cats/test',\n",
        "                                                       target_size=(299, 299),\n",
        "                                                       batch_size=16,\n",
        "                                                       class_mode='binary')"
      ]
    },
    {
      "cell_type": "code",
      "execution_count": null,
      "metadata": {
        "colab": {
          "base_uri": "https://localhost:8080/"
        },
        "id": "dXGbE3Dh1EWJ",
        "outputId": "4163169b-823c-4048-c59d-03493a451b3b"
      },
      "outputs": [
        {
          "output_type": "stream",
          "name": "stderr",
          "text": [
            "/usr/local/lib/python3.10/dist-packages/keras/src/layers/convolutional/base_conv.py:107: UserWarning: Do not pass an `input_shape`/`input_dim` argument to a layer. When using Sequential models, prefer using an `Input(shape)` object as the first layer in the model instead.\n",
            "  super().__init__(activity_regularizer=activity_regularizer, **kwargs)\n"
          ]
        }
      ],
      "source": [
        "model = Sequential([\n",
        "            #layer 1\n",
        "            Conv2D(filters=64, kernel_size=4, activation='relu', input_shape = (299, 299, 3)),\n",
        "            MaxPooling2D(pool_size=2),\n",
        "\n",
        "            #layer 2\n",
        "            Conv2D(filters=32, kernel_size=3, activation='relu'),\n",
        "            MaxPooling2D(pool_size=2),\n",
        "            Dropout(0.2),\n",
        "\n",
        "\n",
        "            Flatten(),\n",
        "            Dense(units=128, activation='relu'),\n",
        "            Dense(units=128, activation='relu'),\n",
        "\n",
        "            Dense(units=1, activation='sigmoid')\n",
        "])\n"
      ]
    },
    {
      "cell_type": "code",
      "execution_count": null,
      "metadata": {
        "colab": {
          "base_uri": "https://localhost:8080/"
        },
        "id": "PEcmwDU3BUp2",
        "outputId": "ccc7f4a2-cf7f-4d06-83be-3375a631f87f"
      },
      "outputs": [
        {
          "output_type": "stream",
          "name": "stderr",
          "text": [
            "WARNING:absl:Compiled the loaded model, but the compiled metrics have yet to be built. `model.compile_metrics` will be empty until you train or evaluate the model.\n"
          ]
        }
      ],
      "source": [
        "from tensorflow.keras.models import load_model\n",
        "\n",
        "\n",
        "model = load_model('/content/drive/MyDrive/Models/CatsVsDogs/model2.h5')"
      ]
    },
    {
      "cell_type": "code",
      "execution_count": null,
      "metadata": {
        "id": "n2heFshh1SS0"
      },
      "outputs": [],
      "source": [
        "model.compile(optimizer='SGD', loss='binary_crossentropy', metrics=['accuracy'])"
      ]
    },
    {
      "cell_type": "code",
      "execution_count": null,
      "metadata": {
        "colab": {
          "base_uri": "https://localhost:8080/"
        },
        "id": "uSfM7WxS1Uxb",
        "outputId": "1a13966a-f484-476d-f91e-a5854e1e3819"
      },
      "outputs": [
        {
          "name": "stdout",
          "output_type": "stream",
          "text": [
            "Epoch 1/5\n",
            "\u001b[1m1250/1250\u001b[0m \u001b[32m━━━━━━━━━━━━━━━━━━━━\u001b[0m\u001b[37m\u001b[0m \u001b[1m423s\u001b[0m 336ms/step - accuracy: 0.8144 - loss: 0.4053 - val_accuracy: 0.8024 - val_loss: 0.4180\n",
            "Epoch 2/5\n",
            "\u001b[1m1250/1250\u001b[0m \u001b[32m━━━━━━━━━━━━━━━━━━━━\u001b[0m\u001b[37m\u001b[0m \u001b[1m449s\u001b[0m 343ms/step - accuracy: 0.8212 - loss: 0.3965 - val_accuracy: 0.8192 - val_loss: 0.4019\n",
            "Epoch 3/5\n",
            "\u001b[1m1250/1250\u001b[0m \u001b[32m━━━━━━━━━━━━━━━━━━━━\u001b[0m\u001b[37m\u001b[0m \u001b[1m445s\u001b[0m 344ms/step - accuracy: 0.8353 - loss: 0.3749 - val_accuracy: 0.8206 - val_loss: 0.3918\n",
            "Epoch 4/5\n",
            "\u001b[1m1250/1250\u001b[0m \u001b[32m━━━━━━━━━━━━━━━━━━━━\u001b[0m\u001b[37m\u001b[0m \u001b[1m417s\u001b[0m 332ms/step - accuracy: 0.8419 - loss: 0.3557 - val_accuracy: 0.8240 - val_loss: 0.3901\n",
            "Epoch 5/5\n",
            "\u001b[1m1250/1250\u001b[0m \u001b[32m━━━━━━━━━━━━━━━━━━━━\u001b[0m\u001b[37m\u001b[0m \u001b[1m451s\u001b[0m 340ms/step - accuracy: 0.8496 - loss: 0.3408 - val_accuracy: 0.8250 - val_loss: 0.3990\n"
          ]
        }
      ],
      "source": [
        "history = model.fit(x = training_set, validation_data = testing_set, epochs=5 ,  batch_size=32, callbacks = EarlyStopping(patience=4))"
      ]
    },
    {
      "cell_type": "code",
      "execution_count": null,
      "metadata": {
        "colab": {
          "base_uri": "https://localhost:8080/"
        },
        "id": "iCAastO5AgUO",
        "outputId": "6884ab72-323e-44d0-9bf8-aefc645b968e"
      },
      "outputs": [
        {
          "name": "stderr",
          "output_type": "stream",
          "text": [
            "WARNING:absl:You are saving your model as an HDF5 file via `model.save()` or `keras.saving.save_model(model)`. This file format is considered legacy. We recommend using instead the native Keras format, e.g. `model.save('my_model.keras')` or `keras.saving.save_model(model, 'my_model.keras')`. \n"
          ]
        }
      ],
      "source": [
        "model.save('model3.h5')"
      ]
    },
    {
      "cell_type": "code",
      "execution_count": null,
      "metadata": {
        "colab": {
          "base_uri": "https://localhost:8080/"
        },
        "id": "QGAxg8kl1RXT",
        "outputId": "a69d4f0e-2af8-4682-db38-1500a1373c69"
      },
      "outputs": [
        {
          "name": "stdout",
          "output_type": "stream",
          "text": [
            "{'cats': 0, 'dogs': 1}\n"
          ]
        }
      ],
      "source": [
        "print(training_set.class_indices)\n",
        "labels = '\\n'.join(sorted(training_set.class_indices.keys()))\n",
        "\n",
        "with open('labels.txt', 'w') as f:\n",
        "     f.write(labels)"
      ]
    },
    {
      "cell_type": "code",
      "execution_count": null,
      "metadata": {
        "id": "3dIGUAlFVxJO",
        "colab": {
          "base_uri": "https://localhost:8080/"
        },
        "outputId": "c2f32d2e-c3ba-4c75-96b9-ac1a882bb109"
      },
      "outputs": [
        {
          "output_type": "stream",
          "name": "stdout",
          "text": [
            "\u001b[1m313/313\u001b[0m \u001b[32m━━━━━━━━━━━━━━━━━━━━\u001b[0m\u001b[37m\u001b[0m \u001b[1m14s\u001b[0m 44ms/step - accuracy: 0.8311 - loss: 0.3894\n"
          ]
        },
        {
          "output_type": "execute_result",
          "data": {
            "text/plain": [
              "[0.3989962637424469, 0.824999988079071]"
            ]
          },
          "metadata": {},
          "execution_count": 40
        }
      ],
      "source": [
        "model.evaluate(testing_set)"
      ]
    },
    {
      "cell_type": "code",
      "source": [
        "model_weights = load_model('/content/drive/MyDrive/Models/CatsVsDogs/model3.h5')"
      ],
      "metadata": {
        "colab": {
          "base_uri": "https://localhost:8080/"
        },
        "id": "EAqYR9OEHNs_",
        "outputId": "04c6dbda-fac6-42fd-eccd-b12794c8bd86"
      },
      "execution_count": null,
      "outputs": [
        {
          "output_type": "stream",
          "name": "stderr",
          "text": [
            "WARNING:absl:Compiled the loaded model, but the compiled metrics have yet to be built. `model.compile_metrics` will be empty until you train or evaluate the model.\n"
          ]
        }
      ]
    },
    {
      "cell_type": "code",
      "source": [
        "import numpy as np\n",
        "from tensorflow.keras.preprocessing import image\n",
        "def predict_image(filename):\n",
        "  test_image = image.load_img(filename, target_size = (299, 299))\n",
        "  test_image = image.img_to_array(test_image)\n",
        "  test_image = np.expand_dims(test_image, axis = 0)\n",
        "  result = model_weights.predict(test_image)\n",
        "  if result[0][0]  >= 0.5:\n",
        "    prediction = 'dog'\n",
        "  else:\n",
        "    prediction = 'cat'\n",
        "  return prediction\n",
        "predict_image(\"/content/drive/MyDrive/Impo_Media/IMG_20230209_141747.jpg\")"
      ],
      "metadata": {
        "colab": {
          "base_uri": "https://localhost:8080/",
          "height": 53
        },
        "id": "B6n6dT-vLpmN",
        "outputId": "5a074afc-4693-4bc6-b6e4-c1eace92534f"
      },
      "execution_count": null,
      "outputs": [
        {
          "output_type": "stream",
          "name": "stdout",
          "text": [
            "\u001b[1m1/1\u001b[0m \u001b[32m━━━━━━━━━━━━━━━━━━━━\u001b[0m\u001b[37m\u001b[0m \u001b[1m3s\u001b[0m 3s/step\n"
          ]
        },
        {
          "output_type": "execute_result",
          "data": {
            "text/plain": [
              "'dog'"
            ],
            "application/vnd.google.colaboratory.intrinsic+json": {
              "type": "string"
            }
          },
          "metadata": {},
          "execution_count": 10
        }
      ]
    },
    {
      "cell_type": "code",
      "source": [],
      "metadata": {
        "id": "V9Obl-yxLhvK"
      },
      "execution_count": null,
      "outputs": []
    }
  ],
  "metadata": {
    "accelerator": "GPU",
    "colab": {
      "gpuType": "T4",
      "provenance": []
    },
    "kernelspec": {
      "display_name": "Python 3",
      "name": "python3"
    },
    "language_info": {
      "name": "python"
    }
  },
  "nbformat": 4,
  "nbformat_minor": 0
}